{
  "nbformat": 4,
  "nbformat_minor": 0,
  "metadata": {
    "colab": {
      "name": "COVIDcnn.ipynb",
      "provenance": [],
      "collapsed_sections": []
    },
    "kernelspec": {
      "name": "python3",
      "display_name": "Python 3"
    },
    "accelerator": "GPU"
  },
  "cells": [
    {
      "cell_type": "code",
      "metadata": {
        "id": "6kyrAlHMGFWa",
        "colab": {
          "base_uri": "https://localhost:8080/",
          "height": 54
        },
        "outputId": "a4645279-332a-4d3d-e908-43d6b2f82c5e"
      },
      "source": [
        "import tensorflow as tf\n",
        "import keras_preprocessing\n",
        "from keras_preprocessing import image\n",
        "from keras_preprocessing.image import ImageDataGenerator\n",
        "import shutil\n",
        "\n",
        "TRAINING_DIR = \"Training\"\n",
        "\n",
        "training_datagen = ImageDataGenerator(rescale = 1./255,\n",
        "                                      width_shift_range=0.2,\n",
        "                                      height_shift_range=0.2)\n",
        "\n",
        "VALIDATION_DIR = \"Validation\"\n",
        "validation_datagen = ImageDataGenerator(rescale = 1./255)\n",
        "\n",
        "train_generator = training_datagen.flow_from_directory(\n",
        "\tTRAINING_DIR,\n",
        "\ttarget_size=(224,224),\n",
        "\tclass_mode='categorical',\n",
        "  batch_size = 32\n",
        ")\n",
        "\n",
        "validation_generator = validation_datagen.flow_from_directory(\n",
        "\tVALIDATION_DIR,\n",
        "\ttarget_size=(224,224),\n",
        "\tclass_mode='categorical',\n",
        "  batch_size= 4\n",
        ")"
      ],
      "execution_count": null,
      "outputs": [
        {
          "output_type": "stream",
          "text": [
            "Found 766 images belonging to 3 classes.\n",
            "Found 95 images belonging to 3 classes.\n"
          ],
          "name": "stdout"
        }
      ]
    },
    {
      "cell_type": "code",
      "metadata": {
        "id": "gKO1W3suMc2J",
        "colab": {
          "base_uri": "https://localhost:8080/",
          "height": 490
        },
        "outputId": "44524191-21dc-4151-c76e-5113d69411de"
      },
      "source": [
        "from tensorflow.keras.optimizers import RMSprop, Adadelta\n",
        "model = tf.keras.models.Sequential([\n",
        "          tf.keras.layers.Conv2D(16, (3,3), activation='relu', input_shape=(224, 224, 3)),\n",
        "          tf.keras.layers.MaxPooling2D(2,2),\n",
        "          tf.keras.layers.Conv2D(32, (3,3), activation='relu'),\n",
        "          tf.keras.layers.MaxPooling2D(2,2),\n",
        "          tf.keras.layers.Conv2D(64, (3,3), activation='relu'),\n",
        "          tf.keras.layers.MaxPooling2D(2,2),\n",
        "          tf.keras.layers.Flatten(),\n",
        "          tf.keras.layers.Dense(128, activation='relu'),\n",
        "          tf.keras.layers.Dense(3, activation='softmax')\n",
        "])\n",
        "model.summary()\n",
        "model.compile(loss='categorical_crossentropy',\n",
        "              optimizer=tf.keras.optimizers.RMSprop(learning_rate=0.001),\n",
        "              metrics=['acc'])"
      ],
      "execution_count": null,
      "outputs": [
        {
          "output_type": "stream",
          "text": [
            "Model: \"sequential_35\"\n",
            "_________________________________________________________________\n",
            "Layer (type)                 Output Shape              Param #   \n",
            "=================================================================\n",
            "conv2d_105 (Conv2D)          (None, 222, 222, 16)      448       \n",
            "_________________________________________________________________\n",
            "max_pooling2d_105 (MaxPoolin (None, 111, 111, 16)      0         \n",
            "_________________________________________________________________\n",
            "conv2d_106 (Conv2D)          (None, 109, 109, 32)      4640      \n",
            "_________________________________________________________________\n",
            "max_pooling2d_106 (MaxPoolin (None, 54, 54, 32)        0         \n",
            "_________________________________________________________________\n",
            "conv2d_107 (Conv2D)          (None, 52, 52, 64)        18496     \n",
            "_________________________________________________________________\n",
            "max_pooling2d_107 (MaxPoolin (None, 26, 26, 64)        0         \n",
            "_________________________________________________________________\n",
            "flatten_35 (Flatten)         (None, 43264)             0         \n",
            "_________________________________________________________________\n",
            "dense_71 (Dense)             (None, 128)               5537920   \n",
            "_________________________________________________________________\n",
            "dense_72 (Dense)             (None, 3)                 387       \n",
            "=================================================================\n",
            "Total params: 5,561,891\n",
            "Trainable params: 5,561,891\n",
            "Non-trainable params: 0\n",
            "_________________________________________________________________\n"
          ],
          "name": "stdout"
        }
      ]
    },
    {
      "cell_type": "code",
      "metadata": {
        "id": "qlWbmjrjO6fB",
        "colab": {
          "base_uri": "https://localhost:8080/",
          "height": 1000
        },
        "outputId": "1624f6d6-e8b8-45b3-a89f-75869ce0ad39"
      },
      "source": [
        "class myCallback(tf.keras.callbacks.Callback):\n",
        "  def on_epoch_end(self, epoch, logs={}):\n",
        "    if(logs.get('val_loss')<=0.08 and logs.get('loss')<=0.08):\n",
        "      print('\\nReached ^98%')\n",
        "      self.model.stop_training = True\n",
        "callbacks = myCallback()\n",
        "\n",
        "history = model.fit(\n",
        "    train_generator,\n",
        "    steps_per_epoch = 24,\n",
        "    epochs = 100,\n",
        "    validation_data = validation_generator,\n",
        "    validation_steps = 24,\n",
        "    callbacks=[callbacks]\n",
        ")\n",
        "\n",
        "model.save('COVIDcnn.h5')"
      ],
      "execution_count": null,
      "outputs": [
        {
          "output_type": "stream",
          "text": [
            "Epoch 1/100\n",
            "24/24 [==============================] - 10s 402ms/step - loss: 2.0889 - acc: 0.3995 - val_loss: 0.9198 - val_acc: 0.4947\n",
            "Epoch 2/100\n",
            "24/24 [==============================] - 9s 390ms/step - loss: 1.0019 - acc: 0.5940 - val_loss: 0.9068 - val_acc: 0.5053\n",
            "Epoch 3/100\n",
            "24/24 [==============================] - 9s 391ms/step - loss: 0.7462 - acc: 0.6789 - val_loss: 0.8181 - val_acc: 0.6316\n",
            "Epoch 4/100\n",
            "24/24 [==============================] - 9s 392ms/step - loss: 0.7068 - acc: 0.6997 - val_loss: 0.9743 - val_acc: 0.5684\n",
            "Epoch 5/100\n",
            "24/24 [==============================] - 9s 393ms/step - loss: 0.6226 - acc: 0.7507 - val_loss: 1.0536 - val_acc: 0.5789\n",
            "Epoch 6/100\n",
            "24/24 [==============================] - 9s 394ms/step - loss: 0.6265 - acc: 0.7467 - val_loss: 0.7741 - val_acc: 0.6316\n",
            "Epoch 7/100\n",
            "24/24 [==============================] - 10s 398ms/step - loss: 0.5693 - acc: 0.7872 - val_loss: 0.7323 - val_acc: 0.6737\n",
            "Epoch 8/100\n",
            "24/24 [==============================] - 9s 394ms/step - loss: 0.6372 - acc: 0.7977 - val_loss: 0.5339 - val_acc: 0.8421\n",
            "Epoch 9/100\n",
            "24/24 [==============================] - 9s 394ms/step - loss: 0.4529 - acc: 0.8264 - val_loss: 0.5553 - val_acc: 0.7895\n",
            "Epoch 10/100\n",
            "24/24 [==============================] - 9s 391ms/step - loss: 0.5558 - acc: 0.8042 - val_loss: 0.4664 - val_acc: 0.8421\n",
            "Epoch 11/100\n",
            "24/24 [==============================] - 9s 390ms/step - loss: 0.4761 - acc: 0.8316 - val_loss: 0.5229 - val_acc: 0.8000\n",
            "Epoch 12/100\n",
            "24/24 [==============================] - 10s 396ms/step - loss: 0.3812 - acc: 0.8538 - val_loss: 0.5153 - val_acc: 0.7789\n",
            "Epoch 13/100\n",
            "24/24 [==============================] - 9s 389ms/step - loss: 0.4106 - acc: 0.8446 - val_loss: 0.4906 - val_acc: 0.8632\n",
            "Epoch 14/100\n",
            "24/24 [==============================] - 9s 391ms/step - loss: 0.3425 - acc: 0.8668 - val_loss: 2.6155 - val_acc: 0.5789\n",
            "Epoch 15/100\n",
            "24/24 [==============================] - 10s 397ms/step - loss: 0.3785 - acc: 0.8695 - val_loss: 0.7416 - val_acc: 0.6842\n",
            "Epoch 16/100\n",
            "24/24 [==============================] - 9s 394ms/step - loss: 0.3744 - acc: 0.8721 - val_loss: 0.5373 - val_acc: 0.8316\n",
            "Epoch 17/100\n",
            "24/24 [==============================] - 9s 391ms/step - loss: 0.3286 - acc: 0.8681 - val_loss: 0.5665 - val_acc: 0.8105\n",
            "Epoch 18/100\n",
            "24/24 [==============================] - 9s 393ms/step - loss: 0.3223 - acc: 0.8799 - val_loss: 0.9106 - val_acc: 0.6947\n",
            "Epoch 19/100\n",
            "24/24 [==============================] - 9s 393ms/step - loss: 0.3230 - acc: 0.8812 - val_loss: 0.4179 - val_acc: 0.8421\n",
            "Epoch 20/100\n",
            "24/24 [==============================] - 9s 393ms/step - loss: 0.2641 - acc: 0.9099 - val_loss: 0.5925 - val_acc: 0.8105\n",
            "Epoch 21/100\n",
            "24/24 [==============================] - 9s 393ms/step - loss: 0.3181 - acc: 0.8825 - val_loss: 0.3970 - val_acc: 0.8526\n",
            "Epoch 22/100\n",
            "24/24 [==============================] - 9s 392ms/step - loss: 0.2930 - acc: 0.8890 - val_loss: 0.5777 - val_acc: 0.7684\n",
            "Epoch 23/100\n",
            "24/24 [==============================] - 10s 399ms/step - loss: 0.2799 - acc: 0.8969 - val_loss: 0.6578 - val_acc: 0.6737\n",
            "Epoch 24/100\n",
            "24/24 [==============================] - 9s 395ms/step - loss: 0.3280 - acc: 0.8734 - val_loss: 0.3844 - val_acc: 0.8526\n",
            "Epoch 25/100\n",
            "24/24 [==============================] - 10s 397ms/step - loss: 0.2491 - acc: 0.9112 - val_loss: 1.1825 - val_acc: 0.6211\n",
            "Epoch 26/100\n",
            "24/24 [==============================] - 9s 394ms/step - loss: 0.2621 - acc: 0.9125 - val_loss: 0.2912 - val_acc: 0.9053\n",
            "Epoch 27/100\n",
            "24/24 [==============================] - 9s 393ms/step - loss: 0.2823 - acc: 0.8903 - val_loss: 0.4033 - val_acc: 0.8105\n",
            "Epoch 28/100\n",
            "24/24 [==============================] - 9s 392ms/step - loss: 0.2457 - acc: 0.9073 - val_loss: 0.3215 - val_acc: 0.8947\n",
            "Epoch 29/100\n",
            "24/24 [==============================] - 9s 391ms/step - loss: 0.1967 - acc: 0.9243 - val_loss: 0.3896 - val_acc: 0.8632\n",
            "Epoch 30/100\n",
            "24/24 [==============================] - 9s 396ms/step - loss: 0.1953 - acc: 0.9321 - val_loss: 0.3091 - val_acc: 0.8947\n",
            "Epoch 31/100\n",
            "24/24 [==============================] - 10s 404ms/step - loss: 0.2634 - acc: 0.9073 - val_loss: 0.2318 - val_acc: 0.9263\n",
            "Epoch 32/100\n",
            "24/24 [==============================] - 10s 400ms/step - loss: 0.1898 - acc: 0.9282 - val_loss: 0.2652 - val_acc: 0.8947\n",
            "Epoch 33/100\n",
            "24/24 [==============================] - 10s 397ms/step - loss: 0.2145 - acc: 0.9269 - val_loss: 0.3548 - val_acc: 0.8737\n",
            "Epoch 34/100\n",
            "24/24 [==============================] - 10s 398ms/step - loss: 0.1893 - acc: 0.9308 - val_loss: 0.2863 - val_acc: 0.9053\n",
            "Epoch 35/100\n",
            "24/24 [==============================] - 10s 397ms/step - loss: 0.2115 - acc: 0.9151 - val_loss: 0.4178 - val_acc: 0.7895\n",
            "Epoch 36/100\n",
            "24/24 [==============================] - 9s 394ms/step - loss: 0.2349 - acc: 0.9164 - val_loss: 0.1916 - val_acc: 0.9368\n",
            "Epoch 37/100\n",
            "24/24 [==============================] - 10s 399ms/step - loss: 0.1844 - acc: 0.9256 - val_loss: 0.2525 - val_acc: 0.9263\n",
            "Epoch 38/100\n",
            "24/24 [==============================] - 10s 402ms/step - loss: 0.2093 - acc: 0.9204 - val_loss: 0.1886 - val_acc: 0.9474\n",
            "Epoch 39/100\n",
            "24/24 [==============================] - 10s 400ms/step - loss: 0.2279 - acc: 0.9099 - val_loss: 0.2900 - val_acc: 0.9053\n",
            "Epoch 40/100\n",
            "24/24 [==============================] - 10s 403ms/step - loss: 0.1844 - acc: 0.9321 - val_loss: 0.2459 - val_acc: 0.9263\n",
            "Epoch 41/100\n",
            "24/24 [==============================] - 10s 398ms/step - loss: 0.1698 - acc: 0.9308 - val_loss: 0.2328 - val_acc: 0.9263\n",
            "Epoch 42/100\n",
            "24/24 [==============================] - 10s 397ms/step - loss: 0.2052 - acc: 0.9230 - val_loss: 0.1868 - val_acc: 0.9158\n",
            "Epoch 43/100\n",
            "24/24 [==============================] - 10s 398ms/step - loss: 0.1618 - acc: 0.9347 - val_loss: 0.5473 - val_acc: 0.8000\n",
            "Epoch 44/100\n",
            "24/24 [==============================] - 10s 397ms/step - loss: 0.1999 - acc: 0.9243 - val_loss: 0.2120 - val_acc: 0.9053\n",
            "Epoch 45/100\n",
            "24/24 [==============================] - 10s 397ms/step - loss: 0.1809 - acc: 0.9321 - val_loss: 0.2594 - val_acc: 0.9053\n",
            "Epoch 46/100\n",
            "24/24 [==============================] - 10s 399ms/step - loss: 0.1789 - acc: 0.9373 - val_loss: 0.1758 - val_acc: 0.9474\n",
            "Epoch 47/100\n",
            "24/24 [==============================] - 10s 401ms/step - loss: 0.2151 - acc: 0.9269 - val_loss: 0.1910 - val_acc: 0.9053\n",
            "Epoch 48/100\n",
            "24/24 [==============================] - 10s 398ms/step - loss: 0.1450 - acc: 0.9386 - val_loss: 0.2324 - val_acc: 0.9368\n",
            "Epoch 49/100\n",
            "24/24 [==============================] - 10s 397ms/step - loss: 0.1529 - acc: 0.9478 - val_loss: 0.2294 - val_acc: 0.9158\n",
            "Epoch 50/100\n",
            "24/24 [==============================] - 10s 400ms/step - loss: 0.1542 - acc: 0.9413 - val_loss: 0.1667 - val_acc: 0.9474\n",
            "Epoch 51/100\n",
            "24/24 [==============================] - 9s 395ms/step - loss: 0.2097 - acc: 0.9217 - val_loss: 0.1577 - val_acc: 0.9368\n",
            "Epoch 52/100\n",
            "24/24 [==============================] - 9s 394ms/step - loss: 0.1791 - acc: 0.9321 - val_loss: 0.1180 - val_acc: 0.9579\n",
            "Epoch 53/100\n",
            "24/24 [==============================] - 10s 397ms/step - loss: 0.1657 - acc: 0.9373 - val_loss: 0.3889 - val_acc: 0.8211\n",
            "Epoch 54/100\n",
            "24/24 [==============================] - 10s 398ms/step - loss: 0.1782 - acc: 0.9373 - val_loss: 0.1556 - val_acc: 0.9158\n",
            "Epoch 55/100\n",
            "24/24 [==============================] - 10s 401ms/step - loss: 0.1555 - acc: 0.9308 - val_loss: 0.2508 - val_acc: 0.8737\n",
            "Epoch 56/100\n",
            "24/24 [==============================] - 10s 399ms/step - loss: 0.1642 - acc: 0.9373 - val_loss: 0.1123 - val_acc: 0.9579\n",
            "Epoch 57/100\n",
            "24/24 [==============================] - 10s 396ms/step - loss: 0.1535 - acc: 0.9308 - val_loss: 0.1161 - val_acc: 0.9474\n",
            "Epoch 58/100\n",
            "24/24 [==============================] - 9s 395ms/step - loss: 0.1305 - acc: 0.9517 - val_loss: 0.6476 - val_acc: 0.8632\n",
            "Epoch 59/100\n",
            "24/24 [==============================] - 9s 394ms/step - loss: 0.1705 - acc: 0.9399 - val_loss: 0.0924 - val_acc: 0.9789\n",
            "Epoch 60/100\n",
            "24/24 [==============================] - 9s 394ms/step - loss: 0.1737 - acc: 0.9386 - val_loss: 0.2449 - val_acc: 0.9263\n",
            "Epoch 61/100\n",
            "24/24 [==============================] - 10s 396ms/step - loss: 0.1559 - acc: 0.9504 - val_loss: 0.1118 - val_acc: 0.9579\n",
            "Epoch 62/100\n",
            "24/24 [==============================] - 10s 399ms/step - loss: 0.1521 - acc: 0.9465 - val_loss: 0.1511 - val_acc: 0.9368\n",
            "Epoch 63/100\n",
            "24/24 [==============================] - 10s 408ms/step - loss: 0.1547 - acc: 0.9426 - val_loss: 0.1312 - val_acc: 0.9263\n",
            "Epoch 64/100\n",
            "24/24 [==============================] - 10s 403ms/step - loss: 0.1230 - acc: 0.9530 - val_loss: 0.1394 - val_acc: 0.9368\n",
            "Epoch 65/100\n",
            "24/24 [==============================] - 10s 399ms/step - loss: 0.1373 - acc: 0.9465 - val_loss: 0.1030 - val_acc: 0.9684\n",
            "Epoch 66/100\n",
            "24/24 [==============================] - 10s 401ms/step - loss: 0.1423 - acc: 0.9530 - val_loss: 0.1776 - val_acc: 0.9474\n",
            "Epoch 67/100\n",
            "24/24 [==============================] - 10s 396ms/step - loss: 0.1696 - acc: 0.9373 - val_loss: 0.2577 - val_acc: 0.9053\n",
            "Epoch 68/100\n",
            "24/24 [==============================] - 10s 399ms/step - loss: 0.1310 - acc: 0.9465 - val_loss: 0.1248 - val_acc: 0.9684\n",
            "Epoch 69/100\n",
            "24/24 [==============================] - 10s 404ms/step - loss: 0.1562 - acc: 0.9373 - val_loss: 0.1562 - val_acc: 0.9368\n",
            "Epoch 70/100\n",
            "24/24 [==============================] - 10s 400ms/step - loss: 0.1353 - acc: 0.9491 - val_loss: 0.1803 - val_acc: 0.9158\n",
            "Epoch 71/100\n",
            "24/24 [==============================] - 10s 399ms/step - loss: 0.1330 - acc: 0.9478 - val_loss: 0.1720 - val_acc: 0.9263\n",
            "Epoch 72/100\n",
            "24/24 [==============================] - 10s 401ms/step - loss: 0.1192 - acc: 0.9504 - val_loss: 0.0922 - val_acc: 0.9579\n",
            "Epoch 73/100\n",
            "24/24 [==============================] - 10s 398ms/step - loss: 0.1611 - acc: 0.9465 - val_loss: 0.1460 - val_acc: 0.9368\n",
            "Epoch 74/100\n",
            "24/24 [==============================] - 10s 397ms/step - loss: 0.1074 - acc: 0.9674 - val_loss: 0.1519 - val_acc: 0.9368\n",
            "Epoch 75/100\n",
            "24/24 [==============================] - 10s 397ms/step - loss: 0.1549 - acc: 0.9504 - val_loss: 0.1941 - val_acc: 0.9474\n",
            "Epoch 76/100\n",
            "24/24 [==============================] - 10s 397ms/step - loss: 0.1502 - acc: 0.9465 - val_loss: 0.2433 - val_acc: 0.9263\n",
            "Epoch 77/100\n",
            "24/24 [==============================] - 10s 400ms/step - loss: 0.1312 - acc: 0.9439 - val_loss: 0.1634 - val_acc: 0.9053\n",
            "Epoch 78/100\n",
            "24/24 [==============================] - 10s 397ms/step - loss: 0.1026 - acc: 0.9687 - val_loss: 0.1725 - val_acc: 0.9158\n",
            "Epoch 79/100\n",
            "24/24 [==============================] - 10s 407ms/step - loss: 0.1195 - acc: 0.9621 - val_loss: 0.4219 - val_acc: 0.8842\n",
            "Epoch 80/100\n",
            "24/24 [==============================] - 10s 402ms/step - loss: 0.1324 - acc: 0.9439 - val_loss: 0.2035 - val_acc: 0.9368\n",
            "Epoch 81/100\n",
            "24/24 [==============================] - 10s 402ms/step - loss: 0.1167 - acc: 0.9595 - val_loss: 0.1339 - val_acc: 0.9684\n",
            "Epoch 82/100\n",
            "24/24 [==============================] - 10s 402ms/step - loss: 0.1954 - acc: 0.9399 - val_loss: 0.5046 - val_acc: 0.8947\n",
            "Epoch 83/100\n",
            "24/24 [==============================] - 10s 399ms/step - loss: 0.1069 - acc: 0.9648 - val_loss: 0.2243 - val_acc: 0.9158\n",
            "Epoch 84/100\n",
            "24/24 [==============================] - 10s 397ms/step - loss: 0.0937 - acc: 0.9674 - val_loss: 0.4232 - val_acc: 0.8421\n",
            "Epoch 85/100\n",
            "24/24 [==============================] - 10s 401ms/step - loss: 0.1112 - acc: 0.9556 - val_loss: 0.4565 - val_acc: 0.8632\n",
            "Epoch 86/100\n",
            "24/24 [==============================] - 10s 398ms/step - loss: 0.1161 - acc: 0.9504 - val_loss: 0.1869 - val_acc: 0.9263\n",
            "Epoch 87/100\n",
            "24/24 [==============================] - 10s 406ms/step - loss: 0.1365 - acc: 0.9504 - val_loss: 0.1382 - val_acc: 0.9474\n",
            "Epoch 88/100\n",
            "24/24 [==============================] - 10s 401ms/step - loss: 0.0995 - acc: 0.9648 - val_loss: 0.1757 - val_acc: 0.9158\n",
            "Epoch 89/100\n",
            "24/24 [==============================] - 10s 400ms/step - loss: 0.1147 - acc: 0.9582 - val_loss: 0.0832 - val_acc: 0.9579\n",
            "Epoch 90/100\n",
            "24/24 [==============================] - 10s 397ms/step - loss: 0.1167 - acc: 0.9621 - val_loss: 0.1146 - val_acc: 0.9684\n",
            "Epoch 91/100\n",
            "24/24 [==============================] - 10s 399ms/step - loss: 0.1599 - acc: 0.9491 - val_loss: 0.1929 - val_acc: 0.9158\n",
            "Epoch 92/100\n",
            "24/24 [==============================] - 10s 398ms/step - loss: 0.1088 - acc: 0.9661 - val_loss: 0.1290 - val_acc: 0.9474\n",
            "Epoch 93/100\n",
            "24/24 [==============================] - 10s 398ms/step - loss: 0.1255 - acc: 0.9543 - val_loss: 0.1116 - val_acc: 0.9368\n",
            "Epoch 94/100\n",
            "24/24 [==============================] - 10s 407ms/step - loss: 0.0978 - acc: 0.9661 - val_loss: 0.1105 - val_acc: 0.9474\n",
            "Epoch 95/100\n",
            "24/24 [==============================] - 10s 409ms/step - loss: 0.1069 - acc: 0.9556 - val_loss: 0.1320 - val_acc: 0.9474\n",
            "Epoch 96/100\n",
            "24/24 [==============================] - 10s 407ms/step - loss: 0.1132 - acc: 0.9608 - val_loss: 0.2355 - val_acc: 0.9368\n",
            "Epoch 97/100\n",
            "24/24 [==============================] - 10s 402ms/step - loss: 0.0905 - acc: 0.9778 - val_loss: 0.2264 - val_acc: 0.9158\n",
            "Epoch 98/100\n",
            "24/24 [==============================] - 10s 402ms/step - loss: 0.1112 - acc: 0.9569 - val_loss: 0.2039 - val_acc: 0.9053\n",
            "Epoch 99/100\n",
            "24/24 [==============================] - 10s 406ms/step - loss: 0.1071 - acc: 0.9621 - val_loss: 0.1080 - val_acc: 0.9474\n",
            "Epoch 100/100\n",
            "24/24 [==============================] - 10s 402ms/step - loss: 0.1210 - acc: 0.9569 - val_loss: 0.2839 - val_acc: 0.9053\n"
          ],
          "name": "stdout"
        }
      ]
    },
    {
      "cell_type": "code",
      "metadata": {
        "id": "BZ5uF_aaPgg0",
        "colab": {
          "base_uri": "https://localhost:8080/",
          "height": 581
        },
        "outputId": "bb682c0f-fc6c-4305-e587-bc9533db6d36"
      },
      "source": [
        "%matplotlib inline\n",
        "import matplotlib.pyplot as plt\n",
        "acc = history.history['acc']\n",
        "val_acc = history.history['val_acc']\n",
        "loss = history.history['loss']\n",
        "val_loss = history.history['val_loss']\n",
        "\n",
        "epochs = range(len(acc))\n",
        "\n",
        "plt.plot(epochs, acc, 'g', label='Training accuracy')\n",
        "plt.plot(epochs, val_acc, 'b', label='Validation accuracy')\n",
        "plt.title('Training and validation accuracy')\n",
        "plt.legend(loc=0)\n",
        "plt.savefig('/content/drive/My Drive/covidieeedataset/accCNN2.png')\n",
        "plt.figure()\n",
        "plt.show()\n",
        "\n",
        "plt.plot(epochs, loss, 'r', label='Training loss')\n",
        "plt.plot(epochs, val_loss, 'orange', label='Validation loss')\n",
        "plt.title('Training and validation loss')\n",
        "plt.legend(loc=0)\n",
        "plt.savefig('/content/drive/My Drive/covidieeedataset/lossCNN2.png')\n",
        "plt.figure()\n",
        "plt.show()"
      ],
      "execution_count": null,
      "outputs": [
        {
          "output_type": "display_data",
          "data": {
            "image/png": "[encoded data removed]",
            "text/plain": [
              "<Figure size 432x288 with 1 Axes>"
            ]
          },
          "metadata": {
            "tags": [],
            "needs_background": "light"
          }
        },
        {
          "output_type": "display_data",
          "data": {
            "text/plain": [
              "<Figure size 432x288 with 0 Axes>"
            ]
          },
          "metadata": {
            "tags": []
          }
        },
        {
          "output_type": "display_data",
          "data": {
            "image/png": "[encoded data removed]",
            "text/plain": [
              "<Figure size 432x288 with 1 Axes>"
            ]
          },
          "metadata": {
            "tags": [],
            "needs_background": "light"
          }
        },
        {
          "output_type": "display_data",
          "data": {
            "text/plain": [
              "<Figure size 432x288 with 0 Axes>"
            ]
          },
          "metadata": {
            "tags": []
          }
        }
      ]
    },
    {
      "cell_type": "code",
      "metadata": {
        "id": "iUuOIqIbRT37",
        "colab": {
          "base_uri": "https://localhost:8080/",
          "height": 35
        },
        "outputId": "d819dab4-7d28-49e0-f938-ec06eab549f1"
      },
      "source": [
        "import tensorflow as tf\n",
        "model = tf.keras.models.load_model('/content/drive/My Drive/covidieeedataset/CNN32.h5')"
      ],
      "execution_count": null,
      "outputs": [
        {
          "output_type": "execute_result",
          "data": {
            "text/plain": [
              "<tensorflow.python.keras.optimizer_v2.rmsprop.RMSprop at 0x7f0f20355d68>"
            ]
          },
          "metadata": {
            "tags": []
          },
          "execution_count": 6
        }
      ]
    },
    {
      "cell_type": "code",
      "metadata": {
        "id": "U6-n8mONgI5g"
      },
      "source": [
        "import numpy as np\n",
        "import keras\n",
        "from keras.preprocessing import image\n",
        "import os\n",
        "prediction = []\n",
        "x = []\n",
        "paths = os.listdir('/content/drive/My Drive/covidieeedataset/Testing/COVID')\n",
        "for i in range(len(paths)):\n",
        "  img = image.load_img('/content/drive/My Drive/covidieeedataset/Testing/COVID/'+paths[i], target_size=(224, 224))\n",
        "  #print(type(img))\n",
        "  x = image.img_to_array(img)\n",
        "  x = np.expand_dims(x, axis=0)\n",
        "  images = np.vstack([x]) / 255\n",
        "  #print(type(images))\n",
        "  classes = model.predict(images, batch_size=256)\n",
        "  prediction.append(list(classes[0]).index(max(classes[0])))\n",
        "paths = os.listdir('/content/drive/My Drive/covidieeedataset/Testing/NORMAL')\n",
        "for i in range(len(paths)):\n",
        "  img = image.load_img('/content/drive/My Drive/covidieeedataset/Testing/NORMAL/'+paths[i], target_size=(224, 224))\n",
        "  #print(type(img))\n",
        "  x = image.img_to_array(img)\n",
        "  x = np.expand_dims(x, axis=0)\n",
        "  images = np.vstack([x]) / 255\n",
        "  #print(type(images))\n",
        "  classes = model.predict(images, batch_size=256)\n",
        "  prediction.append(list(classes[0]).index(max(classes[0])))\n",
        "paths = os.listdir('/content/drive/My Drive/covidieeedataset/Testing/VIRAL')\n",
        "for i in range(len(paths)):\n",
        "  img = image.load_img('/content/drive/My Drive/covidieeedataset/Testing/VIRAL/'+paths[i], target_size=(224, 224))\n",
        "  #print(type(img))\n",
        "  x = image.img_to_array(img)\n",
        "  x = np.expand_dims(x, axis=0)\n",
        "  images = np.vstack([x]) / 255\n",
        "  #print(type(images))\n",
        "  classes = model.predict(images, batch_size=256)\n",
        "  prediction.append(list(classes[0]).index(max(classes[0])))"
      ],
      "execution_count": null,
      "outputs": []
    },
    {
      "cell_type": "code",
      "metadata": {
        "id": "-M_IMtLdXqmC",
        "colab": {
          "base_uri": "https://localhost:8080/",
          "height": 254
        },
        "outputId": "1951c0c1-cd91-45be-d69a-ad6827922351"
      },
      "source": [
        "import numpy\n",
        "from sklearn import metrics\n",
        "\n",
        "y_act = validation_generator.classes\n",
        "\n",
        "labels = [0, 1, 2]\n",
        "\n",
        "print(metrics.confusion_matrix(y_act, np.array(prediction), labels=labels))\n",
        "# Printing the precision and recall, among other metrics\n",
        "print(metrics.classification_report(y_act, np.array(prediction), labels=labels))"
      ],
      "execution_count": null,
      "outputs": [
        {
          "output_type": "stream",
          "text": [
            "[[25  0  0]\n",
            " [ 0 35  0]\n",
            " [ 0  2 33]]\n",
            "              precision    recall  f1-score   support\n",
            "\n",
            "           0       1.00      1.00      1.00        25\n",
            "           1       0.95      1.00      0.97        35\n",
            "           2       1.00      0.94      0.97        35\n",
            "\n",
            "    accuracy                           0.98        95\n",
            "   macro avg       0.98      0.98      0.98        95\n",
            "weighted avg       0.98      0.98      0.98        95\n",
            "\n"
          ],
          "name": "stdout"
        }
      ]
    },
    {
      "cell_type": "code",
      "metadata": {
        "id": "pxN2gXzGTQM6",
        "colab": {
          "base_uri": "https://localhost:8080/",
          "height": 265
        },
        "outputId": "f4e5490a-df25-483b-8224-cb451350441a"
      },
      "source": [
        "import seaborn as sn\n",
        "import pandas as pd\n",
        "import matplotlib.pyplot as plt\n",
        "lbl = [0, 1, 2]\n",
        "df_cm = pd.DataFrame(metrics.confusion_matrix(y_act, np.array(prediction), labels=lbl), \n",
        "                     ['COVID-19', 'Normal', 'Viral pneumonia'], \n",
        "                     ['COVID-19', 'Normal', 'Viral pneumonia'])\n",
        "\n",
        "sn.heatmap(df_cm, annot=True, annot_kws={\"size\": 12}, cbar=False,  cbar_kws={\"orientation\": \"horizontal\"})\n",
        "plt.yticks(rotation=0) \n",
        "plt.savefig('/content/drive/My Drive/covidieeedataset/confusionmatrixCNN.png', bbox_inches='tight',dpi=100)\n",
        "plt.show()"
      ],
      "execution_count": null,
      "outputs": [
        {
          "output_type": "display_data",
          "data": {
            "image/png": "[encoded data removed]",
            "text/plain": [
              "<Figure size 432x288 with 1 Axes>"
            ]
          },
          "metadata": {
            "tags": [],
            "needs_background": "light"
          }
        }
      ]
    },
    {
      "cell_type": "code",
      "metadata": {
        "id": "astpU7OQXkVi"
      },
      "source": [
        "paths = os.listdir('/content/drive/My Drive/covidieeedataset/Testing/COVID')\n",
        "img = image.load_img('/content/drive/My Drive/covidieeedataset/Testing/COVID/'+paths[20], target_size=(224, 224))\n",
        "x = image.img_to_array(img)\n",
        "x = np.expand_dims(x, axis=0)\n",
        "x_train = np.vstack([x]) / 255"
      ],
      "execution_count": null,
      "outputs": []
    },
    {
      "cell_type": "code",
      "metadata": {
        "id": "GZZare8FYNZC"
      },
      "source": [
        "model = tf.keras.models.load_model('/content/drive/My Drive/covidieeedataset/covidCNNmodel.h5')"
      ],
      "execution_count": null,
      "outputs": []
    },
    {
      "cell_type": "code",
      "metadata": {
        "id": "JFuIwf3umTkJ"
      },
      "source": [
        "import matplotlib.pyplot as plt\n",
        "def visualize_conv_layer(layer_name):\n",
        "  \n",
        "  layer_output=model.get_layer(layer_name).output\n",
        " \n",
        "  intermediate_model=tf.keras.models.Model(inputs=model.input,outputs=layer_output)\n",
        " \n",
        "  intermediate_prediction=intermediate_model.predict(x_train)\n",
        "  \n",
        "  row_size=4\n",
        "  col_size=8\n",
        "  \n",
        "  img_index=0\n",
        " \n",
        "  print(np.shape(intermediate_prediction))\n",
        "  \n",
        "  fig,ax=plt.subplots(row_size,col_size,figsize=(10,8))\n",
        " \n",
        "  for row in range(0,row_size):\n",
        "    for col in range(0,col_size):\n",
        "      ax[row][col].imshow(intermediate_prediction[0, :, :, img_index], cmap='gist_heat')\n",
        " \n",
        "      img_index=img_index+1\n",
        "  plt.savefig('/content/drive/My Drive/covidieeedataset/infernoMapCNN.png')"
      ],
      "execution_count": null,
      "outputs": []
    },
    {
      "cell_type": "code",
      "metadata": {
        "id": "dpJ2TvfuXRnT",
        "colab": {
          "base_uri": "https://localhost:8080/",
          "height": 469
        },
        "outputId": "8d56253a-4095-4d13-ea23-23b2144d9bba"
      },
      "source": [
        "visualize_conv_layer('conv2d_17')"
      ],
      "execution_count": null,
      "outputs": [
        {
          "output_type": "stream",
          "text": [
            "(1, 52, 52, 64)\n"
          ],
          "name": "stdout"
        },
        {
          "output_type": "display_data",
          "data": {
            "image/png": "[encoded data removed]",
            "text/plain": [
              "<Figure size 720x576 with 32 Axes>"
            ]
          },
          "metadata": {
            "tags": [],
            "needs_background": "light"
          }
        }
      ]
    },
    {
      "cell_type": "code",
      "metadata": {
        "id": "UYT5-2pJYoc3",
        "colab": {
          "base_uri": "https://localhost:8080/",
          "height": 295
        },
        "outputId": "026a0e96-e125-438f-8b81-0b931b663426"
      },
      "source": [
        "import numpy as np\n",
        "train_images = [206, 280, 280]\n",
        "validation_images = [25, 35, 35]\n",
        "test_images= [25, 35, 35]\n",
        "plt.bar(range(len(train_images)),train_images, 0.5, color='#d62728')\n",
        "plt.bar(range(len(validation_images)),validation_images, 0.5, bottom=train_images)\n",
        "plt.bar(range(len(test_images)),test_images, 0.5, bottom=np.array(train_images)+np.array(validation_images))\n",
        "plt.xlabel('Classes')\n",
        "plt.ylabel('Number of Images')\n",
        "plt.title('Distribution of the dataset')\n",
        "plt.xticks(np.arange(3), ('Covid-19', 'Viral Pneumonia', 'Normal'))\n",
        "plt.yticks(np.arange(0, 360, 25))\n",
        "plt.legend(('Train', 'Validation', 'Test'))\n",
        "plt.savefig('/content/drive/My Drive/covidieeedataset/dataset.png')\n",
        "plt.show()"
      ],
      "execution_count": null,
      "outputs": [
        {
          "output_type": "display_data",
          "data": {
            "image/png": "[encoded data removed]",
            "text/plain": [
              "<Figure size 432x288 with 1 Axes>"
            ]
          },
          "metadata": {
            "tags": [],
            "needs_background": "light"
          }
        }
      ]
    },
    {
      "cell_type": "code",
      "metadata": {
        "id": "5rIBDYIS9HIT"
      },
      "source": [
        "import tensorflow as tf \n",
        "model = tf.keras.models.load_model('/content/drive/My Drive/covidieeedataset/covidCNNmodel.h5')"
      ],
      "execution_count": null,
      "outputs": []
    },
    {
      "cell_type": "code",
      "metadata": {
        "id": "V8zZJRnNF0Do",
        "colab": {
          "base_uri": "https://localhost:8080/",
          "height": 35
        },
        "outputId": "7fde0343-0b9d-432c-9a98-a44bb04a9b47"
      },
      "source": [
        "import numpy as np\n",
        "from keras.preprocessing import image\n",
        "import os\n",
        "prediction = []\n",
        "x = []\n",
        "#paths = ['/content/drive/My Drive/COVID/VIRAL/Viral Pneumonia (102).jpg', '/content/drive/My Drive/COVID/NORMAL/NORMAL (102).jpg', '/content/drive/My Drive/COVID/images/Validation/covid/extubation-13.jpg']\n",
        "paths = os.listdir('/content/drive/My Drive/covidieeedataset/Testing/COVID')\n",
        "for i in range(len(paths)):\n",
        "  img = image.load_img('/content/drive/My Drive/covidieeedataset/Testing/COVID/'+paths[i], target_size=(224, 224))\n",
        "  #print(type(img))\n",
        "  x = image.img_to_array(img)\n",
        "  x = np.expand_dims(x, axis=0)\n",
        "  images = np.vstack([x]) / 255\n",
        "  #print(type(images))\n",
        "  classes = model.predict(images, batch_size=256)\n",
        "  prediction.append(list(classes[0]).index(max(classes[0])))\n",
        "paths = os.listdir('/content/drive/My Drive/covidieeedataset/Testing/NORMAL')\n",
        "for i in range(len(paths)):\n",
        "  img = image.load_img('/content/drive/My Drive/covidieeedataset/Testing/NORMAL/'+paths[i], target_size=(224, 224))\n",
        "  #print(type(img))\n",
        "  x = image.img_to_array(img)\n",
        "  x = np.expand_dims(x, axis=0)\n",
        "  images = np.vstack([x]) / 255\n",
        "  #print(type(images))\n",
        "  classes = model.predict(images, batch_size=256)\n",
        "  prediction.append(list(classes[0]).index(max(classes[0])))\n",
        "paths = os.listdir('/content/drive/My Drive/covidieeedataset/Testing/VIRAL')\n",
        "for i in range(len(paths)):\n",
        "  img = image.load_img('/content/drive/My Drive/covidieeedataset/Testing/VIRAL/'+paths[i], target_size=(224, 224))\n",
        "  #print(type(img))\n",
        "  x = image.img_to_array(img)\n",
        "  x = np.expand_dims(x, axis=0)\n",
        "  images = np.vstack([x]) / 255\n",
        "  #print(type(images))\n",
        "  classes = model.predict(images, batch_size=256)\n",
        "  prediction.append(list(classes[0]).index(max(classes[0])))"
      ],
      "execution_count": null,
      "outputs": [
        {
          "output_type": "stream",
          "text": [
            "Using TensorFlow backend.\n"
          ],
          "name": "stderr"
        }
      ]
    },
    {
      "cell_type": "code",
      "metadata": {
        "id": "Qtrqcdf6F1x7"
      },
      "source": [
        "import numpy\n",
        "from sklearn import metrics\n",
        "\n",
        "y_act = validation_generator.classes\n",
        "\n",
        "labels = [0, 1, 2]\n",
        "\n",
        "print(metrics.confusion_matrix(y_act, np.array(prediction), labels=labels))\n",
        "# Printing the precision and recall, among other metrics\n",
        "print(metrics.classification_report(y_act, np.array(prediction), labels=labels))"
      ],
      "execution_count": null,
      "outputs": []
    },
    {
      "cell_type": "code",
      "metadata": {
        "id": "Ocgj4sRJF3oj",
        "colab": {
          "base_uri": "https://localhost:8080/",
          "height": 265
        },
        "outputId": "9b86154e-b557-4eea-8515-5ba9b29dd771"
      },
      "source": [
        "import seaborn as sn\n",
        "import pandas as pd\n",
        "import matplotlib.pyplot as plt\n",
        "lbl = [0, 1, 2]\n",
        "#plt.figure(figsize=[8, 5])\n",
        "df_cm = pd.DataFrame(metrics.confusion_matrix(y_act, np.array(prediction), labels=lbl), \n",
        "                     ['COVID-19', 'Normal', 'Viral pneumonia'], \n",
        "                     ['COVID-19', 'Normal', 'Viral pneumonia'])\n",
        "\n",
        "sn.heatmap(df_cm, annot=True, annot_kws={\"size\": 12}, cbar=False,  cbar_kws={\"orientation\": \"horizontal\"})\n",
        "plt.yticks(rotation=0) \n",
        "plt.savefig('/content/drive/My Drive/covidieeedataset/confusionmatrixCNN.png', bbox_inches='tight',dpi=100)\n",
        "plt.show()"
      ],
      "execution_count": null,
      "outputs": [
        {
          "output_type": "display_data",
          "data": {
            "image/png": "[encoded data removed]",
            "text/plain": [
              "<Figure size 432x288 with 1 Axes>"
            ]
          },
          "metadata": {
            "tags": [],
            "needs_background": "light"
          }
        }
      ]
    }
  ]
}